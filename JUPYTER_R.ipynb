{
 "cells": [
  {
   "cell_type": "markdown",
   "metadata": {},
   "source": [
    "# JUPYTER"
   ]
  },
  {
   "cell_type": "markdown",
   "metadata": {},
   "source": [
    "Ten dokument został przygotowany przy użyciu edytora (chyba tak to się nazywa) JUPYTER, który służy do interaktywnego tworzenia tekstu, w który można wpleść kod i obliczenia z R, Pythona itp.  "
   ]
  },
  {
   "cell_type": "markdown",
   "metadata": {},
   "source": [
    "## Ogólne wrażenia"
   ]
  },
  {
   "cell_type": "markdown",
   "metadata": {},
   "source": [
    "Ponieważ moim ojczystym językiem jest R więc przejście na JUPYTERa nie było dla mnie łatwe. Głównie dlatego, że ten edytor jest zakorzeniony w Pythonie. Musiałem więc najpierw zmierzyć się z nowym środowiskiem, a potem jeszcze z instalacją samego JUPYTERa. Na dodatek wszystko odbywało się w Windowsie, a jak się pewnie domyślacie prawdziwi programiści (twórcy Pythona i JUPYTERA) nie przepadają za tym systemem i nie udzielają zbyt wielkiego wsparcia jego użytkownikom. Mimo to uważam, że warto się było pomęczyć, żeby uruchomić JUPYTERA. (Jest też prostsza ścieżka – zainstalować wszystko przy pomocy dystrybucji Pythona zwanej [Anaconda](https://www.continuum.io/why-anaconda) - to rozwiązanie polecam szczególnie użytkownikom Windowska) "
   ]
  },
  {
   "cell_type": "markdown",
   "metadata": {},
   "source": [
    "## Dlaczego warto się męczyć"
   ]
  },
  {
   "cell_type": "markdown",
   "metadata": {},
   "source": [
    "JUPYTER to połączenie MsWord / LibreOfice z RMarkdown albo ShinyR i samego R (albo jeśli wolicie to Python, JAVA,... ). A na dodatek wszystko jest odpalana w przeglądarce internetowej. Całość jest więc dosyć zabawna. Zabawa z JUPYTERem wygląda w następujący sposób:\n",
    "\n",
    "    1. Uruchamiamy JUPYTERA - jest kilka sposobów w zależności od systemu operacyjnego (w Windowsie można to zrobić z wiersza poleceń)\n",
    "    2. w przeglądarce otwiera się nowa strona na której wyświetla nam się robocza lokalizacja - czyli folder, w którym zapisywane są nasze pliki wyprodukowane przy użyciu JUPYTERA.\n",
    "    3. Wybieramy sobie jakąś lokalizację i klikamy tworzenie nowego pliku JUPYTER. \n",
    "    4. Otwiera się nowa strona w przeglądarce z włączonym edytorem. Trochę to przypomina Google Docs - biała strona, a na górze różne opcje.\n",
    "    4. Na naszej białej stronie możemy dodawać różne rodzaje akapitów (nagłówki, zwykły tekst, kod R/Python)\n",
    "    5. Żeby zatwierdzić kod / tekst naciskamy przycisk \"Run\" (jest też jakiś skrót klawiszowym, ale nie pamiętam jaki) - wtedy kod jest wykonywany przez R/Python, a rezultat wyświetlany poniżej, a tekst zwyczajnie wyświetlany.\n",
    "\n",
    "Czyli w efekcie powstaje coś na kształt prezentacji, którą możecie w czasie rzeczywistym zmieniać. Ale jest pewien haczyk - żeby wyświetlać prezentacje JUPYTER trzeba mieć zainstalowany edytor na komputerze. Czyli nie da się eksportować gotowych prezentacji - bardzo duży minus!"
   ]
  },
  {
   "cell_type": "markdown",
   "metadata": {},
   "source": [
    "# # Duży plus"
   ]
  },
  {
   "cell_type": "markdown",
   "metadata": {},
   "source": [
    "Ale na pocieszenie jest też duży plus. Otóż pliki JUPYTER są czytane przez GitHub!!! Czyli można przygotować prezentację, wyeksportować ją do GitHub, a tam będzie można ją przeglądać (z całą grafiką) przy pomocy przeglądarki. Co więcej, ponieważ plik jest na GitHub więc każdy może go pobrać i dowolnie edytować / testować.   "
   ]
  },
  {
   "cell_type": "markdown",
   "metadata": {},
   "source": [
    "# # Trochę Pythona"
   ]
  },
  {
   "cell_type": "code",
   "execution_count": 1,
   "metadata": {
    "collapsed": false
   },
   "outputs": [
    {
     "name": "stdout",
     "output_type": "stream",
     "text": [
      "Witaj świecie!!!\n"
     ]
    }
   ],
   "source": [
    "print \"Witaj świecie!!!\""
   ]
  },
  {
   "cell_type": "code",
   "execution_count": null,
   "metadata": {
    "collapsed": false
   },
   "outputs": [],
   "source": [
    "import plotly.plotly as py\n",
    "import plotly.graph_objs as go\n",
    "\n",
    "import numpy as np\n",
    "\n",
    "s = np.linspace(0, 2 * np.pi, 240)\n",
    "t = np.linspace(0, np.pi, 240)\n",
    "tGrid, sGrid = np.meshgrid(s, t)\n",
    "\n",
    "r = 2 + np.sin(7 * sGrid + 5 * tGrid)  # r = 2 + sin(7s+5t)\n",
    "x = r * np.cos(sGrid) * np.sin(tGrid)  # x = r*cos(s)*sin(t)\n",
    "y = r * np.sin(sGrid) * np.sin(tGrid)  # y = r*sin(s)*sin(t)\n",
    "z = r * np.cos(tGrid)                  # z = r*cos(t)\n",
    "\n",
    "surface = go.Surface(x=x, y=y, z=z)\n",
    "data = [surface]\n",
    "\n",
    "layout = go.Layout(\n",
    "    title='Parametric Plot',\n",
    "    scene=dict(\n",
    "        xaxis=dict(\n",
    "            gridcolor='rgb(255, 255, 255)',\n",
    "            zerolinecolor='rgb(255, 255, 255)',\n",
    "            showbackground=True,\n",
    "            backgroundcolor='rgb(230, 230,230)'\n",
    "        ),\n",
    "        yaxis=dict(\n",
    "            gridcolor='rgb(255, 255, 255)',\n",
    "            zerolinecolor='rgb(255, 255, 255)',\n",
    "            showbackground=True,\n",
    "            backgroundcolor='rgb(230, 230,230)'\n",
    "        ),\n",
    "        zaxis=dict(\n",
    "            gridcolor='rgb(255, 255, 255)',\n",
    "            zerolinecolor='rgb(255, 255, 255)',\n",
    "            showbackground=True,\n",
    "            backgroundcolor='rgb(230, 230,230)'\n",
    "        )\n",
    "    )\n",
    ")\n",
    "\n",
    "fig = go.Figure(data=data, layout=layout)\n",
    "plot_url = py.plot(fig, filename='Parametric_plot')"
   ]
  },
  {
   "cell_type": "code",
   "execution_count": null,
   "metadata": {
    "collapsed": true
   },
   "outputs": [],
   "source": []
  }
 ],
 "metadata": {
  "kernelspec": {
   "display_name": "Python 2",
   "language": "python",
   "name": "python2"
  },
  "language_info": {
   "codemirror_mode": {
    "name": "ipython",
    "version": 2
   },
   "file_extension": ".py",
   "mimetype": "text/x-python",
   "name": "python",
   "nbconvert_exporter": "python",
   "pygments_lexer": "ipython2",
   "version": "2.7.1"
  }
 },
 "nbformat": 4,
 "nbformat_minor": 0
}
